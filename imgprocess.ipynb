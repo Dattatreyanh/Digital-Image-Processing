{
 "cells": [
  {
   "cell_type": "code",
   "execution_count": null,
   "metadata": {},
   "outputs": [],
   "source": [
    "import cv2\n",
    "import matplotlib.pyplot as plt\n",
    "\n",
    "# Read the image using OpenCV\n",
    "input_image_path = \"all.png\"\n",
    "image = cv2.imread(input_image_path)\n",
    "\n",
    "# Split the image into its RGB channels\n",
    "blue_channel, green_channel, red_channel = cv2.split(image)\n",
    "\n",
    "# Plot histograms for each channel\n",
    "plt.figure(figsize=(15, 5))\n",
    "\n",
    "# Blue channel histogram\n",
    "plt.subplot(1, 3, 1)\n",
    "plt.hist(blue_channel.ravel(), bins=256, color='blue', alpha=0.5)\n",
    "plt.title('Blue Channel')\n",
    "plt.xlim([0, 255])\n",
    "\n",
    "# Green channel histogram\n",
    "plt.subplot(1, 3, 2)\n",
    "plt.hist(green_channel.ravel(), bins=256, color='green', alpha=0.5)\n",
    "plt.title('Green Channel')\n",
    "plt.xlim([0, 255])\n",
    "\n",
    "# Red channel histogram\n",
    "plt.subplot(1, 3, 3)\n",
    "plt.hist(red_channel.ravel(), bins=256, color='red', alpha=0.5)\n",
    "plt.title('Red Channel')\n",
    "plt.xlim([0, 255])\n",
    "\n",
    "plt.tight_layout()\n",
    "plt.show()"
   ]
  }
 ],
 "metadata": {
  "language_info": {
   "name": "python"
  }
 },
 "nbformat": 4,
 "nbformat_minor": 2
}
